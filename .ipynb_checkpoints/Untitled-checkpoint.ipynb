{
 "cells": [
  {
   "cell_type": "code",
   "execution_count": 1,
   "id": "db824eab",
   "metadata": {},
   "outputs": [
    {
     "data": {
      "text/plain": [
       "True"
      ]
     },
     "execution_count": 1,
     "metadata": {},
     "output_type": "execute_result"
    }
   ],
   "source": [
    "# import libraries\n",
    "import os\n",
    "import MetaTrader5 as mt5\n",
    "import pandas as pd\n",
    "\n",
    "# initialize MetaTrader5\n",
    "mt5.initialize()\n",
    "\n",
    "# set start and end times for historical data\n",
    "start_time = pd.Timestamp(\"2004-01-01 00:00:00\")\n",
    "end_time = pd.Timestamp.now()\n",
    "\n",
    "# get all available symbols\n",
    "symbols = mt5.symbols_get()\n",
    "\n",
    "# define timeframes\n",
    "TIMEFRAME_M1 = 1\n",
    "TIMEFRAME_M2 = 2\n",
    "TIMEFRAME_M3 = 3\n",
    "TIMEFRAME_M4 = 4\n",
    "TIMEFRAME_M5 = 5\n",
    "TIMEFRAME_M6 = 6\n",
    "TIMEFRAME_M10 = 10\n",
    "TIMEFRAME_M12 = 12\n",
    "TIMEFRAME_M15 = 15\n",
    "TIMEFRAME_M20 = 20\n",
    "TIMEFRAME_M30 = 30\n",
    "TIMEFRAME_H1 = 1 | 0x4000\n",
    "TIMEFRAME_H2 = 2 | 0x4000\n",
    "TIMEFRAME_H3 = 3 | 0x4000\n",
    "TIMEFRAME_H4 = 4 | 0x4000\n",
    "TIMEFRAME_H6 = 6 | 0x4000\n",
    "TIMEFRAME_H8 = 8 | 0x4000\n",
    "TIMEFRAME_H12 = 12 | 0x4000\n",
    "TIMEFRAME_D1 = 24 | 0x4000\n",
    "TIMEFRAME_W1 = 1 | 0x8000\n",
    "TIMEFRAME_MN1 = 1 | 0xC000\n",
    "\n",
    "# set the folder to store the data\n",
    "folder_path = r\"C:\\Users\\jayce\\Documents\\important level A\\forexDataPython\\forexData(\" + str(start_time).replace(\":\", \"-\") + \")\"\n",
    "\n",
    "# create the folder if it does not exist\n",
    "if not os.path.exists(folder_path):\n",
    "    os.makedirs(folder_path)\n",
    "\n",
    "# loop through all symbols\n",
    "for symbol in symbols:\n",
    "    # loop through all timeframes for the symbol\n",
    "    for tf in [TIMEFRAME_M1, TIMEFRAME_M2, TIMEFRAME_M3, TIMEFRAME_M4, TIMEFRAME_M5, TIMEFRAME_M6, TIMEFRAME_M10, TIMEFRAME_M12,\n",
    "               TIMEFRAME_M15, TIMEFRAME_M20, TIMEFRAME_M30, TIMEFRAME_H1, TIMEFRAME_H2, TIMEFRAME_H3, TIMEFRAME_H4,\n",
    "               TIMEFRAME_H6, TIMEFRAME_H8, TIMEFRAME_H12, TIMEFRAME_D1, TIMEFRAME_W1, TIMEFRAME_MN1]:\n",
    "        # get historical data for the symbol and timeframe\n",
    "        rates = mt5.copy_rates_range(symbol.name, tf, start_time, end_time)\n",
    "        # create a dataframe from the historical data\n",
    "        df = pd.DataFrame(rates)\n",
    "        # save the dataframe to a csv file\n",
    "        filename = os.path.join(folder_path, f\"{symbol.name}_{tf}.csv\")\n",
    "        df.to_csv(filename, index=False)\n",
    "\n",
    "# shut down MetaTrader5\n",
    "mt5.shutdown()"
   ]
  },
  {
   "cell_type": "code",
   "execution_count": null,
   "id": "0bed4278",
   "metadata": {},
   "outputs": [],
   "source": []
  }
 ],
 "metadata": {
  "kernelspec": {
   "display_name": "Python 3 (ipykernel)",
   "language": "python",
   "name": "python3"
  },
  "language_info": {
   "codemirror_mode": {
    "name": "ipython",
    "version": 3
   },
   "file_extension": ".py",
   "mimetype": "text/x-python",
   "name": "python",
   "nbconvert_exporter": "python",
   "pygments_lexer": "ipython3",
   "version": "3.10.9"
  }
 },
 "nbformat": 4,
 "nbformat_minor": 5
}
